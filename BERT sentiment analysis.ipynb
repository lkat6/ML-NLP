{
  "cells": [
    {
      "cell_type": "code",
      "source": [
        "!pip install tensorflow-addons\n",
        "!pip install -q -U tensorflow-text\n",
        "!pip install -q -U tf-models-official\n",
        "!pip install -U tfds-nightly\n",
        "!pip install tensorflow-text"
      ],
      "metadata": {
        "colab": {
          "base_uri": "https://localhost:8080/"
        },
        "id": "79yQzenragku",
        "outputId": "99e310ac-27b6-4b23-ecdd-da6fea566ec3"
      },
      "id": "79yQzenragku",
      "execution_count": null,
      "outputs": [
        {
          "output_type": "stream",
          "name": "stdout",
          "text": [
            "Collecting tensorflow-addons\n",
            "  Downloading tensorflow_addons-0.15.0-cp37-cp37m-manylinux_2_12_x86_64.manylinux2010_x86_64.whl (1.1 MB)\n",
            "\u001b[K     |████████████████████████████████| 1.1 MB 5.5 MB/s \n",
            "\u001b[?25hRequirement already satisfied: typeguard>=2.7 in /usr/local/lib/python3.7/dist-packages (from tensorflow-addons) (2.7.1)\n",
            "Installing collected packages: tensorflow-addons\n",
            "Successfully installed tensorflow-addons-0.15.0\n",
            "\u001b[K     |████████████████████████████████| 4.9 MB 5.5 MB/s \n",
            "\u001b[K     |████████████████████████████████| 1.8 MB 5.1 MB/s \n",
            "\u001b[K     |████████████████████████████████| 99 kB 7.7 MB/s \n",
            "\u001b[K     |████████████████████████████████| 43 kB 1.7 MB/s \n",
            "\u001b[K     |████████████████████████████████| 47.7 MB 78 kB/s \n",
            "\u001b[K     |████████████████████████████████| 352 kB 46.0 MB/s \n",
            "\u001b[K     |████████████████████████████████| 213 kB 52.7 MB/s \n",
            "\u001b[K     |████████████████████████████████| 90 kB 8.6 MB/s \n",
            "\u001b[K     |████████████████████████████████| 1.2 MB 55.5 MB/s \n",
            "\u001b[K     |████████████████████████████████| 596 kB 53.5 MB/s \n",
            "\u001b[?25h  Building wheel for py-cpuinfo (setup.py) ... \u001b[?25l\u001b[?25hdone\n",
            "  Building wheel for seqeval (setup.py) ... \u001b[?25l\u001b[?25hdone\n",
            "Collecting tfds-nightly\n",
            "  Downloading tfds_nightly-4.4.0.dev202201020107-py3-none-any.whl (4.1 MB)\n",
            "\u001b[K     |████████████████████████████████| 4.1 MB 5.4 MB/s \n",
            "\u001b[?25hRequirement already satisfied: protobuf>=3.12.2 in /usr/local/lib/python3.7/dist-packages (from tfds-nightly) (3.17.3)\n",
            "Requirement already satisfied: tqdm in /usr/local/lib/python3.7/dist-packages (from tfds-nightly) (4.62.3)\n",
            "Requirement already satisfied: requests>=2.19.0 in /usr/local/lib/python3.7/dist-packages (from tfds-nightly) (2.23.0)\n",
            "Requirement already satisfied: dill in /usr/local/lib/python3.7/dist-packages (from tfds-nightly) (0.3.4)\n",
            "Requirement already satisfied: promise in /usr/local/lib/python3.7/dist-packages (from tfds-nightly) (2.3)\n",
            "Requirement already satisfied: tensorflow-metadata in /usr/local/lib/python3.7/dist-packages (from tfds-nightly) (1.4.0)\n",
            "Requirement already satisfied: termcolor in /usr/local/lib/python3.7/dist-packages (from tfds-nightly) (1.1.0)\n",
            "Requirement already satisfied: six in /usr/local/lib/python3.7/dist-packages (from tfds-nightly) (1.15.0)\n",
            "Requirement already satisfied: importlib-resources in /usr/local/lib/python3.7/dist-packages (from tfds-nightly) (5.4.0)\n",
            "Requirement already satisfied: absl-py in /usr/local/lib/python3.7/dist-packages (from tfds-nightly) (0.12.0)\n",
            "Requirement already satisfied: typing-extensions in /usr/local/lib/python3.7/dist-packages (from tfds-nightly) (3.10.0.2)\n",
            "Requirement already satisfied: numpy in /usr/local/lib/python3.7/dist-packages (from tfds-nightly) (1.19.5)\n",
            "Requirement already satisfied: certifi>=2017.4.17 in /usr/local/lib/python3.7/dist-packages (from requests>=2.19.0->tfds-nightly) (2021.10.8)\n",
            "Requirement already satisfied: urllib3!=1.25.0,!=1.25.1,<1.26,>=1.21.1 in /usr/local/lib/python3.7/dist-packages (from requests>=2.19.0->tfds-nightly) (1.24.3)\n",
            "Requirement already satisfied: idna<3,>=2.5 in /usr/local/lib/python3.7/dist-packages (from requests>=2.19.0->tfds-nightly) (2.10)\n",
            "Requirement already satisfied: chardet<4,>=3.0.2 in /usr/local/lib/python3.7/dist-packages (from requests>=2.19.0->tfds-nightly) (3.0.4)\n",
            "Requirement already satisfied: zipp>=3.1.0 in /usr/local/lib/python3.7/dist-packages (from importlib-resources->tfds-nightly) (3.6.0)\n",
            "Requirement already satisfied: googleapis-common-protos<2,>=1.52.0 in /usr/local/lib/python3.7/dist-packages (from tensorflow-metadata->tfds-nightly) (1.53.0)\n",
            "Installing collected packages: tfds-nightly\n",
            "Successfully installed tfds-nightly-4.4.0.dev202201020107\n",
            "Requirement already satisfied: tensorflow-text in /usr/local/lib/python3.7/dist-packages (2.7.3)\n",
            "Requirement already satisfied: tensorflow-hub>=0.8.0 in /usr/local/lib/python3.7/dist-packages (from tensorflow-text) (0.12.0)\n",
            "Requirement already satisfied: tensorflow<2.8,>=2.7.0 in /usr/local/lib/python3.7/dist-packages (from tensorflow-text) (2.7.0)\n",
            "Requirement already satisfied: gast<0.5.0,>=0.2.1 in /usr/local/lib/python3.7/dist-packages (from tensorflow<2.8,>=2.7.0->tensorflow-text) (0.4.0)\n",
            "Requirement already satisfied: six>=1.12.0 in /usr/local/lib/python3.7/dist-packages (from tensorflow<2.8,>=2.7.0->tensorflow-text) (1.15.0)\n",
            "Requirement already satisfied: keras<2.8,>=2.7.0rc0 in /usr/local/lib/python3.7/dist-packages (from tensorflow<2.8,>=2.7.0->tensorflow-text) (2.7.0)\n",
            "Requirement already satisfied: grpcio<2.0,>=1.24.3 in /usr/local/lib/python3.7/dist-packages (from tensorflow<2.8,>=2.7.0->tensorflow-text) (1.42.0)\n",
            "Requirement already satisfied: libclang>=9.0.1 in /usr/local/lib/python3.7/dist-packages (from tensorflow<2.8,>=2.7.0->tensorflow-text) (12.0.0)\n",
            "Requirement already satisfied: tensorflow-estimator<2.8,~=2.7.0rc0 in /usr/local/lib/python3.7/dist-packages (from tensorflow<2.8,>=2.7.0->tensorflow-text) (2.7.0)\n",
            "Requirement already satisfied: h5py>=2.9.0 in /usr/local/lib/python3.7/dist-packages (from tensorflow<2.8,>=2.7.0->tensorflow-text) (3.1.0)\n",
            "Requirement already satisfied: google-pasta>=0.1.1 in /usr/local/lib/python3.7/dist-packages (from tensorflow<2.8,>=2.7.0->tensorflow-text) (0.2.0)\n",
            "Requirement already satisfied: keras-preprocessing>=1.1.1 in /usr/local/lib/python3.7/dist-packages (from tensorflow<2.8,>=2.7.0->tensorflow-text) (1.1.2)\n",
            "Requirement already satisfied: flatbuffers<3.0,>=1.12 in /usr/local/lib/python3.7/dist-packages (from tensorflow<2.8,>=2.7.0->tensorflow-text) (2.0)\n",
            "Requirement already satisfied: tensorboard~=2.6 in /usr/local/lib/python3.7/dist-packages (from tensorflow<2.8,>=2.7.0->tensorflow-text) (2.7.0)\n",
            "Requirement already satisfied: absl-py>=0.4.0 in /usr/local/lib/python3.7/dist-packages (from tensorflow<2.8,>=2.7.0->tensorflow-text) (0.12.0)\n",
            "Requirement already satisfied: wrapt>=1.11.0 in /usr/local/lib/python3.7/dist-packages (from tensorflow<2.8,>=2.7.0->tensorflow-text) (1.13.3)\n",
            "Requirement already satisfied: termcolor>=1.1.0 in /usr/local/lib/python3.7/dist-packages (from tensorflow<2.8,>=2.7.0->tensorflow-text) (1.1.0)\n",
            "Requirement already satisfied: protobuf>=3.9.2 in /usr/local/lib/python3.7/dist-packages (from tensorflow<2.8,>=2.7.0->tensorflow-text) (3.17.3)\n",
            "Requirement already satisfied: wheel<1.0,>=0.32.0 in /usr/local/lib/python3.7/dist-packages (from tensorflow<2.8,>=2.7.0->tensorflow-text) (0.37.0)\n",
            "Requirement already satisfied: typing-extensions>=3.6.6 in /usr/local/lib/python3.7/dist-packages (from tensorflow<2.8,>=2.7.0->tensorflow-text) (3.10.0.2)\n",
            "Requirement already satisfied: tensorflow-io-gcs-filesystem>=0.21.0 in /usr/local/lib/python3.7/dist-packages (from tensorflow<2.8,>=2.7.0->tensorflow-text) (0.22.0)\n",
            "Requirement already satisfied: numpy>=1.14.5 in /usr/local/lib/python3.7/dist-packages (from tensorflow<2.8,>=2.7.0->tensorflow-text) (1.19.5)\n",
            "Requirement already satisfied: opt-einsum>=2.3.2 in /usr/local/lib/python3.7/dist-packages (from tensorflow<2.8,>=2.7.0->tensorflow-text) (3.3.0)\n",
            "Requirement already satisfied: astunparse>=1.6.0 in /usr/local/lib/python3.7/dist-packages (from tensorflow<2.8,>=2.7.0->tensorflow-text) (1.6.3)\n",
            "Requirement already satisfied: cached-property in /usr/local/lib/python3.7/dist-packages (from h5py>=2.9.0->tensorflow<2.8,>=2.7.0->tensorflow-text) (1.5.2)\n",
            "Requirement already satisfied: werkzeug>=0.11.15 in /usr/local/lib/python3.7/dist-packages (from tensorboard~=2.6->tensorflow<2.8,>=2.7.0->tensorflow-text) (1.0.1)\n",
            "Requirement already satisfied: google-auth<3,>=1.6.3 in /usr/local/lib/python3.7/dist-packages (from tensorboard~=2.6->tensorflow<2.8,>=2.7.0->tensorflow-text) (1.35.0)\n",
            "Requirement already satisfied: google-auth-oauthlib<0.5,>=0.4.1 in /usr/local/lib/python3.7/dist-packages (from tensorboard~=2.6->tensorflow<2.8,>=2.7.0->tensorflow-text) (0.4.6)\n",
            "Requirement already satisfied: requests<3,>=2.21.0 in /usr/local/lib/python3.7/dist-packages (from tensorboard~=2.6->tensorflow<2.8,>=2.7.0->tensorflow-text) (2.23.0)\n",
            "Requirement already satisfied: setuptools>=41.0.0 in /usr/local/lib/python3.7/dist-packages (from tensorboard~=2.6->tensorflow<2.8,>=2.7.0->tensorflow-text) (57.4.0)\n",
            "Requirement already satisfied: tensorboard-plugin-wit>=1.6.0 in /usr/local/lib/python3.7/dist-packages (from tensorboard~=2.6->tensorflow<2.8,>=2.7.0->tensorflow-text) (1.8.0)\n",
            "Requirement already satisfied: markdown>=2.6.8 in /usr/local/lib/python3.7/dist-packages (from tensorboard~=2.6->tensorflow<2.8,>=2.7.0->tensorflow-text) (3.3.6)\n",
            "Requirement already satisfied: tensorboard-data-server<0.7.0,>=0.6.0 in /usr/local/lib/python3.7/dist-packages (from tensorboard~=2.6->tensorflow<2.8,>=2.7.0->tensorflow-text) (0.6.1)\n",
            "Requirement already satisfied: rsa<5,>=3.1.4 in /usr/local/lib/python3.7/dist-packages (from google-auth<3,>=1.6.3->tensorboard~=2.6->tensorflow<2.8,>=2.7.0->tensorflow-text) (4.8)\n",
            "Requirement already satisfied: pyasn1-modules>=0.2.1 in /usr/local/lib/python3.7/dist-packages (from google-auth<3,>=1.6.3->tensorboard~=2.6->tensorflow<2.8,>=2.7.0->tensorflow-text) (0.2.8)\n",
            "Requirement already satisfied: cachetools<5.0,>=2.0.0 in /usr/local/lib/python3.7/dist-packages (from google-auth<3,>=1.6.3->tensorboard~=2.6->tensorflow<2.8,>=2.7.0->tensorflow-text) (4.2.4)\n",
            "Requirement already satisfied: requests-oauthlib>=0.7.0 in /usr/local/lib/python3.7/dist-packages (from google-auth-oauthlib<0.5,>=0.4.1->tensorboard~=2.6->tensorflow<2.8,>=2.7.0->tensorflow-text) (1.3.0)\n",
            "Requirement already satisfied: importlib-metadata>=4.4 in /usr/local/lib/python3.7/dist-packages (from markdown>=2.6.8->tensorboard~=2.6->tensorflow<2.8,>=2.7.0->tensorflow-text) (4.8.2)\n",
            "Requirement already satisfied: zipp>=0.5 in /usr/local/lib/python3.7/dist-packages (from importlib-metadata>=4.4->markdown>=2.6.8->tensorboard~=2.6->tensorflow<2.8,>=2.7.0->tensorflow-text) (3.6.0)\n",
            "Requirement already satisfied: pyasn1<0.5.0,>=0.4.6 in /usr/local/lib/python3.7/dist-packages (from pyasn1-modules>=0.2.1->google-auth<3,>=1.6.3->tensorboard~=2.6->tensorflow<2.8,>=2.7.0->tensorflow-text) (0.4.8)\n",
            "Requirement already satisfied: certifi>=2017.4.17 in /usr/local/lib/python3.7/dist-packages (from requests<3,>=2.21.0->tensorboard~=2.6->tensorflow<2.8,>=2.7.0->tensorflow-text) (2021.10.8)\n",
            "Requirement already satisfied: chardet<4,>=3.0.2 in /usr/local/lib/python3.7/dist-packages (from requests<3,>=2.21.0->tensorboard~=2.6->tensorflow<2.8,>=2.7.0->tensorflow-text) (3.0.4)\n",
            "Requirement already satisfied: idna<3,>=2.5 in /usr/local/lib/python3.7/dist-packages (from requests<3,>=2.21.0->tensorboard~=2.6->tensorflow<2.8,>=2.7.0->tensorflow-text) (2.10)\n",
            "Requirement already satisfied: urllib3!=1.25.0,!=1.25.1,<1.26,>=1.21.1 in /usr/local/lib/python3.7/dist-packages (from requests<3,>=2.21.0->tensorboard~=2.6->tensorflow<2.8,>=2.7.0->tensorflow-text) (1.24.3)\n",
            "Requirement already satisfied: oauthlib>=3.0.0 in /usr/local/lib/python3.7/dist-packages (from requests-oauthlib>=0.7.0->google-auth-oauthlib<0.5,>=0.4.1->tensorboard~=2.6->tensorflow<2.8,>=2.7.0->tensorflow-text) (3.1.1)\n"
          ]
        }
      ]
    },
    {
      "cell_type": "code",
      "source": [
        "%tensorflow_version 2.x\n",
        "import tensorflow as tf\n",
        "device_name = tf.test.gpu_device_name()\n",
        "if device_name != '/device:GPU:0':\n",
        "  raise SystemError('GPU device not found')\n",
        "print('Found GPU at: {}'.format(device_name))"
      ],
      "metadata": {
        "colab": {
          "base_uri": "https://localhost:8080/"
        },
        "id": "z6QkKIWVGEAw",
        "outputId": "10c6074c-44b4-479d-a18c-7b243391ec32"
      },
      "id": "z6QkKIWVGEAw",
      "execution_count": null,
      "outputs": [
        {
          "output_type": "stream",
          "name": "stdout",
          "text": [
            "Found GPU at: /device:GPU:0\n"
          ]
        }
      ]
    },
    {
      "cell_type": "markdown",
      "source": [
        "# New Section"
      ],
      "metadata": {
        "id": "v6ZR-Z_7GRY5"
      },
      "id": "v6ZR-Z_7GRY5"
    },
    {
      "cell_type": "code",
      "source": [
        "from google.colab import drive\n",
        "drive.mount('/content/drive')"
      ],
      "metadata": {
        "colab": {
          "base_uri": "https://localhost:8080/"
        },
        "id": "aphsv-q4dI5v",
        "outputId": "85ec4a36-2d42-4825-d7a5-904aba83d15c"
      },
      "id": "aphsv-q4dI5v",
      "execution_count": null,
      "outputs": [
        {
          "output_type": "stream",
          "name": "stdout",
          "text": [
            "Mounted at /content/drive\n"
          ]
        }
      ]
    },
    {
      "cell_type": "code",
      "execution_count": null,
      "id": "f671240b-942c-47cb-82a7-1dca51b40601",
      "metadata": {
        "id": "f671240b-942c-47cb-82a7-1dca51b40601"
      },
      "outputs": [],
      "source": [
        "\"\"\"\n",
        "!pip install tensorflow-addons\n",
        "!pip install -q -U tensorflow-text\n",
        "!pip install -q -U tf-models-official\n",
        "!pip install -U tfds-nightly\n",
        "\n",
        "\"\"\"\n",
        "\n",
        "import os\n",
        "import tensorflow as tf\n",
        "import tensorflow_hub as hub\n",
        "import tensorflow_text as text  # A dependency of the preprocessing model\n",
        "import tensorflow_addons as tfa # For metrics\n",
        "from official.nlp import optimization\n",
        "\n",
        "tf.get_logger().setLevel('ERROR')\n",
        "\n",
        "\"\"\"\n",
        "Configure TFHub to read checkpoints directly from TFHub's Cloud Storage buckets. This is only recommended when running TFHub models on TPU.\n",
        "Without this setting TFHub would download the compressed file and extract the checkpoint locally. Attempting to load from these local files will fail with the following error:\n",
        "```\n",
        "InvalidArgumentError: Unimplemented: File system scheme '[local]' not implemented\n",
        "```\n",
        "This is because the [TPU can only read directly from Cloud Storage buckets](https://cloud.google.com/tpu/docs/troubleshooting#cannot_use_local_filesystem).\n",
        "Note: This setting is automatic in Colab.\n",
        "\"\"\"\n",
        "os.environ[\"TFHUB_MODEL_LOAD_FORMAT\"]=\"UNCOMPRESSED\"\n",
        "\n",
        "\n",
        "class BERT_FineTune:\n",
        "    def __init__(self, handle_encoder, handle_preprocess):\n",
        "      try:\n",
        "        resolver = tf.distribute.cluster_resolver.TPUClusterResolver()\n",
        "        tf.config.experimental_connect_to_cluster(resolver)\n",
        "        tf.tpu.experimental.initialize_tpu_system(resolver)\n",
        "        strategy = tf.distribute.TPUStrategy(resolver)\n",
        "        print('Using TPU')\n",
        "      except:\n",
        "        if tf.config.list_physical_devices('GPU'):\n",
        "            strategy = tf.distribute.MirroredStrategy()\n",
        "            print('Using GPU')\n",
        "        else:\n",
        "            strategy = None\n",
        "            print('Running on CPU is not recommended.')\n",
        "      self.strategy = strategy\n",
        "      self.handle_encoder = handle_encoder\n",
        "      self.handle_preprocess = handle_preprocess\n",
        "\n",
        "    @staticmethod\n",
        "    def make_bert_preprocess_model(handle_preprocess, sentence_features, seq_length=128):\n",
        "        \"\"\"Returns Model mapping string features to BERT inputs.\n",
        "\n",
        "        Args:\n",
        "        sentence_features: a list with the names of string-valued features.\n",
        "        seq_length: an integer that defines the sequence length of BERT inputs.\n",
        "\n",
        "        Returns:\n",
        "        A Keras Model that can be called on a list or dict of string Tensors\n",
        "        (with the order or names, resp., given by sentence_features) and\n",
        "        returns a dict of tensors for input to BERT.\n",
        "        \"\"\"\n",
        "\n",
        "        input_segments = [\n",
        "            tf.keras.layers.Input(shape=(), dtype=tf.string, name=ft)\n",
        "            for ft in sentence_features]\n",
        "\n",
        "        # Tokenize the text to word pieces.\n",
        "        bert_preprocess = hub.load(handle_preprocess)\n",
        "        tokenizer = hub.KerasLayer(bert_preprocess.tokenize, name='tokenizer')\n",
        "        segments = [tokenizer(s) for s in input_segments]\n",
        "\n",
        "        # Optional: Trim segments in a smart way to fit seq_length.\n",
        "        # Simple cases can skip this step and let\n",
        "        # the next step apply a default truncation to approximately equal lengths.\n",
        "        truncated_segments = segments\n",
        "\n",
        "        # Pack inputs. The details (start/end token ids, dict of output tensors)\n",
        "        # are model-dependent, so this gets loaded from the SavedModel.\n",
        "        packer = hub.KerasLayer(bert_preprocess.bert_pack_inputs,\n",
        "                                arguments=dict(seq_length=seq_length),\n",
        "                                name='packer')\n",
        "        model_inputs = packer(truncated_segments)\n",
        "        return tf.keras.Model(input_segments, model_inputs)\n",
        "\n",
        "    @staticmethod\n",
        "    def convert_dataset(df, batch_size, bert_preprocess_model, sentence_features, label='label', shuffle=False, repeat=False):\n",
        "        AUTOTUNE = tf.data.AUTOTUNE\n",
        "        in_memory_ds = dict()\n",
        "        for feature in sentence_features:\n",
        "            in_memory_ds[feature] = df[feature]\n",
        "        in_memory_ds['label'] = df[label]\n",
        "\n",
        "        dataset = tf.data.Dataset.from_tensor_slices(in_memory_ds)\n",
        "        num_examples = len(in_memory_ds['label'])\n",
        "\n",
        "        if shuffle:\n",
        "            dataset = dataset.shuffle(num_examples)\n",
        "        if repeat:\n",
        "            dataset = dataset.repeat()\n",
        "        dataset = dataset.batch(batch_size)\n",
        "        dataset = dataset.map(lambda ex: (bert_preprocess_model(ex), ex['label']))\n",
        "        dataset = dataset.cache().prefetch(buffer_size=AUTOTUNE)\n",
        "        return dataset, num_examples\n",
        "\n",
        "    @staticmethod\n",
        "    def build_classifier_model(encoder, num_classes, seed=0):\n",
        "        tf.random.set_seed(seed)\n",
        "\n",
        "        class Classifier(tf.keras.Model):\n",
        "            def __init__(self, encoder, num_classes):\n",
        "                super(Classifier, self).__init__(name=\"prediction\")\n",
        "                self.encoder = encoder\n",
        "                self.dropout = tf.keras.layers.Dropout(0.1)\n",
        "                self.dense = tf.keras.layers.Dense(num_classes)\n",
        "\n",
        "            def call(self, preprocessed_text):\n",
        "                encoder_outputs = self.encoder(preprocessed_text)\n",
        "                pooled_output = encoder_outputs[\"pooled_output\"]\n",
        "                x = self.dropout(pooled_output)\n",
        "                x = self.dense(x)\n",
        "                return x\n",
        "\n",
        "        model = Classifier(encoder, num_classes)\n",
        "        return model\n",
        "\n",
        "\n",
        "    def tune(self, train_df, val_df=None, sentence_features=['sentence'], label='label', epochs=3, batch_size=32, optimizer='sgd', seq_length=128):\n",
        "        num_classes = len(train_df[label].unique())\n",
        "        bert_preprocess_model = BERT_FineTune.make_bert_preprocess_model(self.handle_preprocess, sentence_features, seq_length)\n",
        "\n",
        "        train_dataset, train_data_size = BERT_FineTune.convert_dataset(\n",
        "            train_df, batch_size, bert_preprocess_model, sentence_features, label, True, True)\n",
        "\n",
        "        steps_per_epoch = train_data_size // batch_size\n",
        "        num_train_steps = steps_per_epoch * epochs\n",
        "        num_warmup_steps = num_train_steps // 10\n",
        "        \n",
        "        if val_df is None:\n",
        "            validation_dataset = None\n",
        "            validation_steps = None\n",
        "        else:\n",
        "            validation_dataset, validation_data_size = BERT_FineTune.convert_dataset(\n",
        "                val_df, batch_size, bert_preprocess_model, sentence_features, label, False, False)\n",
        "            validation_steps = validation_data_size // batch_size\n",
        "\n",
        "        \n",
        "        if self.strategy is None:\n",
        "            encoder = hub.KerasLayer(self.handle_encoder, trainable=True)\n",
        "\n",
        "            # metric have to be created inside the strategy scope\n",
        "\n",
        "            loss = tf.keras.losses.SparseCategoricalCrossentropy(from_logits=True)\n",
        "\n",
        "            #metrics = tfa.metrics.MatthewsCorrelationCoefficient(num_classes=2)\n",
        "            classifier_model = BERT_FineTune.build_classifier_model(encoder, num_classes)\n",
        "\n",
        "            # optimizer = optimization.create_optimizer(\n",
        "            #     init_lr=init_lr,\n",
        "            #     num_train_steps=num_train_steps,\n",
        "            #     num_warmup_steps=num_warmup_steps,\n",
        "            #     optimizer_type='adamw')\n",
        "\n",
        "            classifier_model.compile(optimizer=optimizer, loss=loss, metrics='accuracy') # metrics=[metrics]\n",
        "\n",
        "            classifier_model.fit(\n",
        "                x=train_dataset,\n",
        "                validation_data=validation_dataset,\n",
        "                steps_per_epoch=steps_per_epoch,\n",
        "                epochs=epochs,\n",
        "                validation_steps=validation_steps)\n",
        "        else:\n",
        "            with self.strategy.scope():\n",
        "                encoder = hub.KerasLayer(self.handle_encoder, trainable=True)\n",
        "\n",
        "                # metric have to be created inside the strategy scope\n",
        "\n",
        "                loss = tf.keras.losses.SparseCategoricalCrossentropy(from_logits=True)\n",
        "\n",
        "                #metrics = tfa.metrics.MatthewsCorrelationCoefficient(num_classes=2)\n",
        "\n",
        "                classifier_model = BERT_FineTune.build_classifier_model(encoder, num_classes)\n",
        "\n",
        "                # optimizer = optimization.create_optimizer(\n",
        "                #     init_lr=init_lr,\n",
        "                #     num_train_steps=num_train_steps,\n",
        "                #     num_warmup_steps=num_warmup_steps,\n",
        "                #     optimizer_type='adamw')\n",
        "\n",
        "                classifier_model.compile(optimizer=optimizer, loss=loss, metrics='accuracy') # metrics=[metrics]\n",
        "\n",
        "                classifier_model.fit(\n",
        "                    x=train_dataset,\n",
        "                    validation_data=validation_dataset,\n",
        "                    steps_per_epoch=steps_per_epoch,\n",
        "                    epochs=epochs,\n",
        "                    validation_steps=validation_steps)\n",
        "        return classifier_model\n",
        "\n"
      ]
    },
    {
      "cell_type": "code",
      "source": [
        "import pandas as pd\n",
        "import numpy as np\n",
        "import glob\n",
        "\n",
        "\n",
        "\n",
        "data = pd.concat([pd.read_csv(csv_file,header=None,usecols=[0,1], names=['label', 'text']) for csv_file in glob.glob(\n",
        "        os.path.join(\"/content/drive/MyDrive/DS/train/\", \"*.csv\"))], axis=0, ignore_index=True)\n",
        "    \n",
        "data.info()\n"
      ],
      "metadata": {
        "id": "PmuN7IwDb3wL",
        "colab": {
          "base_uri": "https://localhost:8080/"
        },
        "outputId": "1ef36e61-6964-435b-eead-f5e2ff2422de"
      },
      "id": "PmuN7IwDb3wL",
      "execution_count": null,
      "outputs": [
        {
          "output_type": "stream",
          "name": "stdout",
          "text": [
            "<class 'pandas.core.frame.DataFrame'>\n",
            "RangeIndex: 1578627 entries, 0 to 1578626\n",
            "Data columns (total 2 columns):\n",
            " #   Column  Non-Null Count    Dtype \n",
            "---  ------  --------------    ----- \n",
            " 0   label   1578627 non-null  int64 \n",
            " 1   text    1578627 non-null  object\n",
            "dtypes: int64(1), object(1)\n",
            "memory usage: 24.1+ MB\n"
          ]
        }
      ]
    },
    {
      "cell_type": "code",
      "source": [
        "data.head()"
      ],
      "metadata": {
        "colab": {
          "base_uri": "https://localhost:8080/",
          "height": 206
        },
        "id": "YlLBiuQjNNtF",
        "outputId": "2f7f5d1f-4af2-4a82-d4d5-853e4b68eede"
      },
      "id": "YlLBiuQjNNtF",
      "execution_count": null,
      "outputs": [
        {
          "output_type": "execute_result",
          "data": {
            "text/html": [
              "\n",
              "  <div id=\"df-02e6642e-3750-421e-b5d4-7e52b65c87b2\">\n",
              "    <div class=\"colab-df-container\">\n",
              "      <div>\n",
              "<style scoped>\n",
              "    .dataframe tbody tr th:only-of-type {\n",
              "        vertical-align: middle;\n",
              "    }\n",
              "\n",
              "    .dataframe tbody tr th {\n",
              "        vertical-align: top;\n",
              "    }\n",
              "\n",
              "    .dataframe thead th {\n",
              "        text-align: right;\n",
              "    }\n",
              "</style>\n",
              "<table border=\"1\" class=\"dataframe\">\n",
              "  <thead>\n",
              "    <tr style=\"text-align: right;\">\n",
              "      <th></th>\n",
              "      <th>label</th>\n",
              "      <th>text</th>\n",
              "    </tr>\n",
              "  </thead>\n",
              "  <tbody>\n",
              "    <tr>\n",
              "      <th>0</th>\n",
              "      <td>0</td>\n",
              "      <td>got right to the top floor and guess what some...</td>\n",
              "    </tr>\n",
              "    <tr>\n",
              "      <th>1</th>\n",
              "      <td>1</td>\n",
              "      <td>got roped into working on a fridaynight boo bo...</td>\n",
              "    </tr>\n",
              "    <tr>\n",
              "      <th>2</th>\n",
              "      <td>0</td>\n",
              "      <td>got rubik cube as a present now have to rememb...</td>\n",
              "    </tr>\n",
              "    <tr>\n",
              "      <th>3</th>\n",
              "      <td>0</td>\n",
              "      <td>got sad news at the shop today had to lay off ...</td>\n",
              "    </tr>\n",
              "    <tr>\n",
              "      <th>4</th>\n",
              "      <td>1</td>\n",
              "      <td>got sandwiches and at the park playing hoop wi...</td>\n",
              "    </tr>\n",
              "  </tbody>\n",
              "</table>\n",
              "</div>\n",
              "      <button class=\"colab-df-convert\" onclick=\"convertToInteractive('df-02e6642e-3750-421e-b5d4-7e52b65c87b2')\"\n",
              "              title=\"Convert this dataframe to an interactive table.\"\n",
              "              style=\"display:none;\">\n",
              "        \n",
              "  <svg xmlns=\"http://www.w3.org/2000/svg\" height=\"24px\"viewBox=\"0 0 24 24\"\n",
              "       width=\"24px\">\n",
              "    <path d=\"M0 0h24v24H0V0z\" fill=\"none\"/>\n",
              "    <path d=\"M18.56 5.44l.94 2.06.94-2.06 2.06-.94-2.06-.94-.94-2.06-.94 2.06-2.06.94zm-11 1L8.5 8.5l.94-2.06 2.06-.94-2.06-.94L8.5 2.5l-.94 2.06-2.06.94zm10 10l.94 2.06.94-2.06 2.06-.94-2.06-.94-.94-2.06-.94 2.06-2.06.94z\"/><path d=\"M17.41 7.96l-1.37-1.37c-.4-.4-.92-.59-1.43-.59-.52 0-1.04.2-1.43.59L10.3 9.45l-7.72 7.72c-.78.78-.78 2.05 0 2.83L4 21.41c.39.39.9.59 1.41.59.51 0 1.02-.2 1.41-.59l7.78-7.78 2.81-2.81c.8-.78.8-2.07 0-2.86zM5.41 20L4 18.59l7.72-7.72 1.47 1.35L5.41 20z\"/>\n",
              "  </svg>\n",
              "      </button>\n",
              "      \n",
              "  <style>\n",
              "    .colab-df-container {\n",
              "      display:flex;\n",
              "      flex-wrap:wrap;\n",
              "      gap: 12px;\n",
              "    }\n",
              "\n",
              "    .colab-df-convert {\n",
              "      background-color: #E8F0FE;\n",
              "      border: none;\n",
              "      border-radius: 50%;\n",
              "      cursor: pointer;\n",
              "      display: none;\n",
              "      fill: #1967D2;\n",
              "      height: 32px;\n",
              "      padding: 0 0 0 0;\n",
              "      width: 32px;\n",
              "    }\n",
              "\n",
              "    .colab-df-convert:hover {\n",
              "      background-color: #E2EBFA;\n",
              "      box-shadow: 0px 1px 2px rgba(60, 64, 67, 0.3), 0px 1px 3px 1px rgba(60, 64, 67, 0.15);\n",
              "      fill: #174EA6;\n",
              "    }\n",
              "\n",
              "    [theme=dark] .colab-df-convert {\n",
              "      background-color: #3B4455;\n",
              "      fill: #D2E3FC;\n",
              "    }\n",
              "\n",
              "    [theme=dark] .colab-df-convert:hover {\n",
              "      background-color: #434B5C;\n",
              "      box-shadow: 0px 1px 3px 1px rgba(0, 0, 0, 0.15);\n",
              "      filter: drop-shadow(0px 1px 2px rgba(0, 0, 0, 0.3));\n",
              "      fill: #FFFFFF;\n",
              "    }\n",
              "  </style>\n",
              "\n",
              "      <script>\n",
              "        const buttonEl =\n",
              "          document.querySelector('#df-02e6642e-3750-421e-b5d4-7e52b65c87b2 button.colab-df-convert');\n",
              "        buttonEl.style.display =\n",
              "          google.colab.kernel.accessAllowed ? 'block' : 'none';\n",
              "\n",
              "        async function convertToInteractive(key) {\n",
              "          const element = document.querySelector('#df-02e6642e-3750-421e-b5d4-7e52b65c87b2');\n",
              "          const dataTable =\n",
              "            await google.colab.kernel.invokeFunction('convertToInteractive',\n",
              "                                                     [key], {});\n",
              "          if (!dataTable) return;\n",
              "\n",
              "          const docLinkHtml = 'Like what you see? Visit the ' +\n",
              "            '<a target=\"_blank\" href=https://colab.research.google.com/notebooks/data_table.ipynb>data table notebook</a>'\n",
              "            + ' to learn more about interactive tables.';\n",
              "          element.innerHTML = '';\n",
              "          dataTable['output_type'] = 'display_data';\n",
              "          await google.colab.output.renderOutput(dataTable, element);\n",
              "          const docLink = document.createElement('div');\n",
              "          docLink.innerHTML = docLinkHtml;\n",
              "          element.appendChild(docLink);\n",
              "        }\n",
              "      </script>\n",
              "    </div>\n",
              "  </div>\n",
              "  "
            ],
            "text/plain": [
              "   label                                               text\n",
              "0      0  got right to the top floor and guess what some...\n",
              "1      1  got roped into working on a fridaynight boo bo...\n",
              "2      0  got rubik cube as a present now have to rememb...\n",
              "3      0  got sad news at the shop today had to lay off ...\n",
              "4      1  got sandwiches and at the park playing hoop wi..."
            ]
          },
          "metadata": {},
          "execution_count": 7
        }
      ]
    },
    {
      "cell_type": "code",
      "source": [
        "msk = np.random.rand(len(data)) < 0.8\n",
        "\n",
        "train_df = data[msk]\n",
        "\n",
        "val_df = data[~msk]"
      ],
      "metadata": {
        "id": "nRYsyMt0cOUx"
      },
      "id": "nRYsyMt0cOUx",
      "execution_count": null,
      "outputs": []
    },
    {
      "cell_type": "code",
      "source": [
        "val_df"
      ],
      "metadata": {
        "colab": {
          "base_uri": "https://localhost:8080/",
          "height": 423
        },
        "id": "Igo_tzLcEW1K",
        "outputId": "bb0cc9b1-14cd-4419-8673-63fa5fa311e5"
      },
      "id": "Igo_tzLcEW1K",
      "execution_count": null,
      "outputs": [
        {
          "output_type": "execute_result",
          "data": {
            "text/html": [
              "\n",
              "  <div id=\"df-ca9dfcae-c51a-4879-8fd8-10648422b444\">\n",
              "    <div class=\"colab-df-container\">\n",
              "      <div>\n",
              "<style scoped>\n",
              "    .dataframe tbody tr th:only-of-type {\n",
              "        vertical-align: middle;\n",
              "    }\n",
              "\n",
              "    .dataframe tbody tr th {\n",
              "        vertical-align: top;\n",
              "    }\n",
              "\n",
              "    .dataframe thead th {\n",
              "        text-align: right;\n",
              "    }\n",
              "</style>\n",
              "<table border=\"1\" class=\"dataframe\">\n",
              "  <thead>\n",
              "    <tr style=\"text-align: right;\">\n",
              "      <th></th>\n",
              "      <th>label</th>\n",
              "      <th>text</th>\n",
              "    </tr>\n",
              "  </thead>\n",
              "  <tbody>\n",
              "    <tr>\n",
              "      <th>0</th>\n",
              "      <td>0</td>\n",
              "      <td>got right to the top floor and guess what some...</td>\n",
              "    </tr>\n",
              "    <tr>\n",
              "      <th>5</th>\n",
              "      <td>0</td>\n",
              "      <td>got saturday school tomorrow blah hate saturda...</td>\n",
              "    </tr>\n",
              "    <tr>\n",
              "      <th>9</th>\n",
              "      <td>1</td>\n",
              "      <td>got seasons of skins marathon yeah</td>\n",
              "    </tr>\n",
              "    <tr>\n",
              "      <th>11</th>\n",
              "      <td>0</td>\n",
              "      <td>got sent home from work i have pink eye</td>\n",
              "    </tr>\n",
              "    <tr>\n",
              "      <th>13</th>\n",
              "      <td>0</td>\n",
              "      <td>got shampoo in my eye now it s all red</td>\n",
              "    </tr>\n",
              "    <tr>\n",
              "      <th>...</th>\n",
              "      <td>...</td>\n",
              "      <td>...</td>\n",
              "    </tr>\n",
              "    <tr>\n",
              "      <th>1578600</th>\n",
              "      <td>0</td>\n",
              "      <td>fergusthedog thanks for the great suggestions ...</td>\n",
              "    </tr>\n",
              "    <tr>\n",
              "      <th>1578606</th>\n",
              "      <td>1</td>\n",
              "      <td>ferlishious it is naked a snail is homeless</td>\n",
              "    </tr>\n",
              "    <tr>\n",
              "      <th>1578610</th>\n",
              "      <td>0</td>\n",
              "      <td>fernandahgarcia quot atm quot is quot at this ...</td>\n",
              "    </tr>\n",
              "    <tr>\n",
              "      <th>1578621</th>\n",
              "      <td>1</td>\n",
              "      <td>fernfiddlehead l amp d is a world of it s own ...</td>\n",
              "    </tr>\n",
              "    <tr>\n",
              "      <th>1578625</th>\n",
              "      <td>0</td>\n",
              "      <td>fernniii well i guess he s not so little anymo...</td>\n",
              "    </tr>\n",
              "  </tbody>\n",
              "</table>\n",
              "<p>315850 rows × 2 columns</p>\n",
              "</div>\n",
              "      <button class=\"colab-df-convert\" onclick=\"convertToInteractive('df-ca9dfcae-c51a-4879-8fd8-10648422b444')\"\n",
              "              title=\"Convert this dataframe to an interactive table.\"\n",
              "              style=\"display:none;\">\n",
              "        \n",
              "  <svg xmlns=\"http://www.w3.org/2000/svg\" height=\"24px\"viewBox=\"0 0 24 24\"\n",
              "       width=\"24px\">\n",
              "    <path d=\"M0 0h24v24H0V0z\" fill=\"none\"/>\n",
              "    <path d=\"M18.56 5.44l.94 2.06.94-2.06 2.06-.94-2.06-.94-.94-2.06-.94 2.06-2.06.94zm-11 1L8.5 8.5l.94-2.06 2.06-.94-2.06-.94L8.5 2.5l-.94 2.06-2.06.94zm10 10l.94 2.06.94-2.06 2.06-.94-2.06-.94-.94-2.06-.94 2.06-2.06.94z\"/><path d=\"M17.41 7.96l-1.37-1.37c-.4-.4-.92-.59-1.43-.59-.52 0-1.04.2-1.43.59L10.3 9.45l-7.72 7.72c-.78.78-.78 2.05 0 2.83L4 21.41c.39.39.9.59 1.41.59.51 0 1.02-.2 1.41-.59l7.78-7.78 2.81-2.81c.8-.78.8-2.07 0-2.86zM5.41 20L4 18.59l7.72-7.72 1.47 1.35L5.41 20z\"/>\n",
              "  </svg>\n",
              "      </button>\n",
              "      \n",
              "  <style>\n",
              "    .colab-df-container {\n",
              "      display:flex;\n",
              "      flex-wrap:wrap;\n",
              "      gap: 12px;\n",
              "    }\n",
              "\n",
              "    .colab-df-convert {\n",
              "      background-color: #E8F0FE;\n",
              "      border: none;\n",
              "      border-radius: 50%;\n",
              "      cursor: pointer;\n",
              "      display: none;\n",
              "      fill: #1967D2;\n",
              "      height: 32px;\n",
              "      padding: 0 0 0 0;\n",
              "      width: 32px;\n",
              "    }\n",
              "\n",
              "    .colab-df-convert:hover {\n",
              "      background-color: #E2EBFA;\n",
              "      box-shadow: 0px 1px 2px rgba(60, 64, 67, 0.3), 0px 1px 3px 1px rgba(60, 64, 67, 0.15);\n",
              "      fill: #174EA6;\n",
              "    }\n",
              "\n",
              "    [theme=dark] .colab-df-convert {\n",
              "      background-color: #3B4455;\n",
              "      fill: #D2E3FC;\n",
              "    }\n",
              "\n",
              "    [theme=dark] .colab-df-convert:hover {\n",
              "      background-color: #434B5C;\n",
              "      box-shadow: 0px 1px 3px 1px rgba(0, 0, 0, 0.15);\n",
              "      filter: drop-shadow(0px 1px 2px rgba(0, 0, 0, 0.3));\n",
              "      fill: #FFFFFF;\n",
              "    }\n",
              "  </style>\n",
              "\n",
              "      <script>\n",
              "        const buttonEl =\n",
              "          document.querySelector('#df-ca9dfcae-c51a-4879-8fd8-10648422b444 button.colab-df-convert');\n",
              "        buttonEl.style.display =\n",
              "          google.colab.kernel.accessAllowed ? 'block' : 'none';\n",
              "\n",
              "        async function convertToInteractive(key) {\n",
              "          const element = document.querySelector('#df-ca9dfcae-c51a-4879-8fd8-10648422b444');\n",
              "          const dataTable =\n",
              "            await google.colab.kernel.invokeFunction('convertToInteractive',\n",
              "                                                     [key], {});\n",
              "          if (!dataTable) return;\n",
              "\n",
              "          const docLinkHtml = 'Like what you see? Visit the ' +\n",
              "            '<a target=\"_blank\" href=https://colab.research.google.com/notebooks/data_table.ipynb>data table notebook</a>'\n",
              "            + ' to learn more about interactive tables.';\n",
              "          element.innerHTML = '';\n",
              "          dataTable['output_type'] = 'display_data';\n",
              "          await google.colab.output.renderOutput(dataTable, element);\n",
              "          const docLink = document.createElement('div');\n",
              "          docLink.innerHTML = docLinkHtml;\n",
              "          element.appendChild(docLink);\n",
              "        }\n",
              "      </script>\n",
              "    </div>\n",
              "  </div>\n",
              "  "
            ],
            "text/plain": [
              "         label                                               text\n",
              "0            0  got right to the top floor and guess what some...\n",
              "5            0  got saturday school tomorrow blah hate saturda...\n",
              "9            1                 got seasons of skins marathon yeah\n",
              "11           0            got sent home from work i have pink eye\n",
              "13           0             got shampoo in my eye now it s all red\n",
              "...        ...                                                ...\n",
              "1578600      0  fergusthedog thanks for the great suggestions ...\n",
              "1578606      1        ferlishious it is naked a snail is homeless\n",
              "1578610      0  fernandahgarcia quot atm quot is quot at this ...\n",
              "1578621      1  fernfiddlehead l amp d is a world of it s own ...\n",
              "1578625      0  fernniii well i guess he s not so little anymo...\n",
              "\n",
              "[315850 rows x 2 columns]"
            ]
          },
          "metadata": {},
          "execution_count": 62
        }
      ]
    },
    {
      "cell_type": "code",
      "execution_count": null,
      "id": "4b2d4f0e-7f5a-4d6c-9a77-c21e7dde52d3",
      "metadata": {
        "colab": {
          "base_uri": "https://localhost:8080/",
          "height": 423
        },
        "id": "4b2d4f0e-7f5a-4d6c-9a77-c21e7dde52d3",
        "outputId": "dd418764-6b62-45c1-fb55-e7a7632a39a3"
      },
      "outputs": [
        {
          "output_type": "execute_result",
          "data": {
            "text/html": [
              "\n",
              "  <div id=\"df-f984db61-e592-4d38-a8b9-95c9da19cc08\">\n",
              "    <div class=\"colab-df-container\">\n",
              "      <div>\n",
              "<style scoped>\n",
              "    .dataframe tbody tr th:only-of-type {\n",
              "        vertical-align: middle;\n",
              "    }\n",
              "\n",
              "    .dataframe tbody tr th {\n",
              "        vertical-align: top;\n",
              "    }\n",
              "\n",
              "    .dataframe thead th {\n",
              "        text-align: right;\n",
              "    }\n",
              "</style>\n",
              "<table border=\"1\" class=\"dataframe\">\n",
              "  <thead>\n",
              "    <tr style=\"text-align: right;\">\n",
              "      <th></th>\n",
              "      <th>label</th>\n",
              "      <th>text</th>\n",
              "    </tr>\n",
              "  </thead>\n",
              "  <tbody>\n",
              "    <tr>\n",
              "      <th>1</th>\n",
              "      <td>1</td>\n",
              "      <td>got roped into working on a fridaynight boo bo...</td>\n",
              "    </tr>\n",
              "    <tr>\n",
              "      <th>2</th>\n",
              "      <td>0</td>\n",
              "      <td>got rubik cube as a present now have to rememb...</td>\n",
              "    </tr>\n",
              "    <tr>\n",
              "      <th>3</th>\n",
              "      <td>0</td>\n",
              "      <td>got sad news at the shop today had to lay off ...</td>\n",
              "    </tr>\n",
              "    <tr>\n",
              "      <th>4</th>\n",
              "      <td>1</td>\n",
              "      <td>got sandwiches and at the park playing hoop wi...</td>\n",
              "    </tr>\n",
              "    <tr>\n",
              "      <th>6</th>\n",
              "      <td>0</td>\n",
              "      <td>got sausage links instead of sausage patties</td>\n",
              "    </tr>\n",
              "    <tr>\n",
              "      <th>...</th>\n",
              "      <td>...</td>\n",
              "      <td>...</td>\n",
              "    </tr>\n",
              "    <tr>\n",
              "      <th>1578620</th>\n",
              "      <td>1</td>\n",
              "      <td>ferncotton please play burnin up by the jonas ...</td>\n",
              "    </tr>\n",
              "    <tr>\n",
              "      <th>1578622</th>\n",
              "      <td>0</td>\n",
              "      <td>fernniii alot of them are moms with kids or at...</td>\n",
              "    </tr>\n",
              "    <tr>\n",
              "      <th>1578623</th>\n",
              "      <td>0</td>\n",
              "      <td>fernniii aww they all went to bed early</td>\n",
              "    </tr>\n",
              "    <tr>\n",
              "      <th>1578624</th>\n",
              "      <td>1</td>\n",
              "      <td>fernniii ok awesome if u do check it out later...</td>\n",
              "    </tr>\n",
              "    <tr>\n",
              "      <th>1578626</th>\n",
              "      <td>1</td>\n",
              "      <td>ijithu well it s kinda difficult to do tht but...</td>\n",
              "    </tr>\n",
              "  </tbody>\n",
              "</table>\n",
              "<p>1262777 rows × 2 columns</p>\n",
              "</div>\n",
              "      <button class=\"colab-df-convert\" onclick=\"convertToInteractive('df-f984db61-e592-4d38-a8b9-95c9da19cc08')\"\n",
              "              title=\"Convert this dataframe to an interactive table.\"\n",
              "              style=\"display:none;\">\n",
              "        \n",
              "  <svg xmlns=\"http://www.w3.org/2000/svg\" height=\"24px\"viewBox=\"0 0 24 24\"\n",
              "       width=\"24px\">\n",
              "    <path d=\"M0 0h24v24H0V0z\" fill=\"none\"/>\n",
              "    <path d=\"M18.56 5.44l.94 2.06.94-2.06 2.06-.94-2.06-.94-.94-2.06-.94 2.06-2.06.94zm-11 1L8.5 8.5l.94-2.06 2.06-.94-2.06-.94L8.5 2.5l-.94 2.06-2.06.94zm10 10l.94 2.06.94-2.06 2.06-.94-2.06-.94-.94-2.06-.94 2.06-2.06.94z\"/><path d=\"M17.41 7.96l-1.37-1.37c-.4-.4-.92-.59-1.43-.59-.52 0-1.04.2-1.43.59L10.3 9.45l-7.72 7.72c-.78.78-.78 2.05 0 2.83L4 21.41c.39.39.9.59 1.41.59.51 0 1.02-.2 1.41-.59l7.78-7.78 2.81-2.81c.8-.78.8-2.07 0-2.86zM5.41 20L4 18.59l7.72-7.72 1.47 1.35L5.41 20z\"/>\n",
              "  </svg>\n",
              "      </button>\n",
              "      \n",
              "  <style>\n",
              "    .colab-df-container {\n",
              "      display:flex;\n",
              "      flex-wrap:wrap;\n",
              "      gap: 12px;\n",
              "    }\n",
              "\n",
              "    .colab-df-convert {\n",
              "      background-color: #E8F0FE;\n",
              "      border: none;\n",
              "      border-radius: 50%;\n",
              "      cursor: pointer;\n",
              "      display: none;\n",
              "      fill: #1967D2;\n",
              "      height: 32px;\n",
              "      padding: 0 0 0 0;\n",
              "      width: 32px;\n",
              "    }\n",
              "\n",
              "    .colab-df-convert:hover {\n",
              "      background-color: #E2EBFA;\n",
              "      box-shadow: 0px 1px 2px rgba(60, 64, 67, 0.3), 0px 1px 3px 1px rgba(60, 64, 67, 0.15);\n",
              "      fill: #174EA6;\n",
              "    }\n",
              "\n",
              "    [theme=dark] .colab-df-convert {\n",
              "      background-color: #3B4455;\n",
              "      fill: #D2E3FC;\n",
              "    }\n",
              "\n",
              "    [theme=dark] .colab-df-convert:hover {\n",
              "      background-color: #434B5C;\n",
              "      box-shadow: 0px 1px 3px 1px rgba(0, 0, 0, 0.15);\n",
              "      filter: drop-shadow(0px 1px 2px rgba(0, 0, 0, 0.3));\n",
              "      fill: #FFFFFF;\n",
              "    }\n",
              "  </style>\n",
              "\n",
              "      <script>\n",
              "        const buttonEl =\n",
              "          document.querySelector('#df-f984db61-e592-4d38-a8b9-95c9da19cc08 button.colab-df-convert');\n",
              "        buttonEl.style.display =\n",
              "          google.colab.kernel.accessAllowed ? 'block' : 'none';\n",
              "\n",
              "        async function convertToInteractive(key) {\n",
              "          const element = document.querySelector('#df-f984db61-e592-4d38-a8b9-95c9da19cc08');\n",
              "          const dataTable =\n",
              "            await google.colab.kernel.invokeFunction('convertToInteractive',\n",
              "                                                     [key], {});\n",
              "          if (!dataTable) return;\n",
              "\n",
              "          const docLinkHtml = 'Like what you see? Visit the ' +\n",
              "            '<a target=\"_blank\" href=https://colab.research.google.com/notebooks/data_table.ipynb>data table notebook</a>'\n",
              "            + ' to learn more about interactive tables.';\n",
              "          element.innerHTML = '';\n",
              "          dataTable['output_type'] = 'display_data';\n",
              "          await google.colab.output.renderOutput(dataTable, element);\n",
              "          const docLink = document.createElement('div');\n",
              "          docLink.innerHTML = docLinkHtml;\n",
              "          element.appendChild(docLink);\n",
              "        }\n",
              "      </script>\n",
              "    </div>\n",
              "  </div>\n",
              "  "
            ],
            "text/plain": [
              "         label                                               text\n",
              "1            1  got roped into working on a fridaynight boo bo...\n",
              "2            0  got rubik cube as a present now have to rememb...\n",
              "3            0  got sad news at the shop today had to lay off ...\n",
              "4            1  got sandwiches and at the park playing hoop wi...\n",
              "6            0       got sausage links instead of sausage patties\n",
              "...        ...                                                ...\n",
              "1578620      1  ferncotton please play burnin up by the jonas ...\n",
              "1578622      0  fernniii alot of them are moms with kids or at...\n",
              "1578623      0            fernniii aww they all went to bed early\n",
              "1578624      1  fernniii ok awesome if u do check it out later...\n",
              "1578626      1  ijithu well it s kinda difficult to do tht but...\n",
              "\n",
              "[1262777 rows x 2 columns]"
            ]
          },
          "metadata": {},
          "execution_count": 9
        }
      ],
      "source": [
        "train_df"
      ]
    },
    {
      "cell_type": "code",
      "source": [
        "feature_cols = ['text']"
      ],
      "metadata": {
        "id": "aLdTAO32cwE9"
      },
      "id": "aLdTAO32cwE9",
      "execution_count": null,
      "outputs": []
    },
    {
      "cell_type": "code",
      "execution_count": null,
      "id": "47ca33e2-750b-4548-acd5-f897315790dc",
      "metadata": {
        "tags": [],
        "colab": {
          "base_uri": "https://localhost:8080/"
        },
        "id": "47ca33e2-750b-4548-acd5-f897315790dc",
        "outputId": "48ffed36-d34a-4bea-c64b-b773de20dbca"
      },
      "outputs": [
        {
          "output_type": "stream",
          "name": "stdout",
          "text": [
            "Using TPU\n"
          ]
        }
      ],
      "source": [
        "# bert_finetune = BERT_FineTune(handle_encoder='/home/jupyter/BertPretained/bert_en_uncased_L-12_H-768_A-12', \n",
        "#                               handle_preprocess='/home/jupyter/BertPreprocess/bert_en_uncased_preprocess')\n",
        "\n",
        "bert_finetune = BERT_FineTune(handle_encoder='https://tfhub.dev/tensorflow/bert_en_uncased_L-12_H-768_A-12/3', \n",
        "                              handle_preprocess='https://tfhub.dev/tensorflow/bert_en_uncased_preprocess/3')"
      ]
    },
    {
      "cell_type": "code",
      "execution_count": null,
      "id": "74709d3d-a5c0-4cc9-8c71-d9c7b0929dea",
      "metadata": {
        "tags": [],
        "colab": {
          "base_uri": "https://localhost:8080/"
        },
        "id": "74709d3d-a5c0-4cc9-8c71-d9c7b0929dea",
        "outputId": "af30da47-3244-408b-ab8e-72daffa4257a"
      },
      "outputs": [
        {
          "output_type": "stream",
          "name": "stderr",
          "text": [
            "/usr/local/lib/python3.7/dist-packages/keras/engine/functional.py:559: UserWarning: Input dict contained keys ['label'] which did not match any model input. They will be ignored by the model.\n",
            "  inputs = self._flatten_to_reference_inputs(inputs)\n"
          ]
        },
        {
          "output_type": "stream",
          "name": "stdout",
          "text": [
            "Epoch 1/3\n"
          ]
        },
        {
          "output_type": "stream",
          "name": "stderr",
          "text": [
            "/usr/local/lib/python3.7/dist-packages/tensorflow/python/framework/indexed_slices.py:450: UserWarning: Converting sparse IndexedSlices(IndexedSlices(indices=Tensor(\"SGD/gradients/StatefulPartitionedCall:1\", shape=(None,), dtype=int32), values=Tensor(\"SGD/gradients/StatefulPartitionedCall:0\", dtype=float32), dense_shape=Tensor(\"SGD/gradients/StatefulPartitionedCall:2\", shape=(None,), dtype=int32))) to a dense Tensor of unknown shape. This may consume a large amount of memory.\n",
            "  \"shape. This may consume a large amount of memory.\" % value)\n"
          ]
        },
        {
          "output_type": "stream",
          "name": "stdout",
          "text": [
            "39461/39461 [==============================] - 2153s 54ms/step - loss: 0.3637 - accuracy: 0.8381\n",
            "Epoch 2/3\n",
            "39461/39461 [==============================] - 2121s 54ms/step - loss: 0.3266 - accuracy: 0.8576\n",
            "Epoch 3/3\n",
            "39461/39461 [==============================] - 2124s 54ms/step - loss: 0.3065 - accuracy: 0.8675\n"
          ]
        }
      ],
      "source": [
        "bert_model = bert_finetune.tune(train_df, None, feature_cols,\n",
        "                   label='label', epochs=3,\n",
        "                   batch_size=32, optimizer='sgd', seq_length=128)"
      ]
    },
    {
      "cell_type": "code",
      "execution_count": null,
      "id": "2e85b133-d7e0-4570-aa55-3e54827c33f6",
      "metadata": {
        "colab": {
          "base_uri": "https://localhost:8080/"
        },
        "id": "2e85b133-d7e0-4570-aa55-3e54827c33f6",
        "outputId": "feba05d9-4c2e-49ce-9667-939766cef559"
      },
      "outputs": [
        {
          "output_type": "stream",
          "name": "stderr",
          "text": [
            "/usr/local/lib/python3.7/dist-packages/keras/engine/functional.py:559: UserWarning: Input dict contained keys ['label'] which did not match any model input. They will be ignored by the model.\n",
            "  inputs = self._flatten_to_reference_inputs(inputs)\n"
          ]
        }
      ],
      "source": [
        "bert_preprocess_model = bert_finetune.make_bert_preprocess_model(bert_finetune.handle_preprocess,feature_cols, seq_length=128)\n",
        "test_ds, _=bert_finetune.convert_dataset(val_df, 32, \n",
        "                          bert_preprocess_model, \n",
        "                          feature_cols, \n",
        "                          label='label', shuffle=False, repeat=False)"
      ]
    },
    {
      "cell_type": "code",
      "execution_count": null,
      "id": "4f60ceaf-57de-4754-a91f-6b740ee079a3",
      "metadata": {
        "id": "4f60ceaf-57de-4754-a91f-6b740ee079a3"
      },
      "outputs": [],
      "source": [
        "with bert_finetune.strategy.scope():\n",
        "  predictions1 = bert_model.predict(test_ds)\n"
      ]
    },
    {
      "cell_type": "code",
      "source": [
        "test_ds"
      ],
      "metadata": {
        "colab": {
          "base_uri": "https://localhost:8080/"
        },
        "id": "89ZLY_yv4lUs",
        "outputId": "2aa6730a-0a29-4597-ddf6-67758ac8973e"
      },
      "id": "89ZLY_yv4lUs",
      "execution_count": null,
      "outputs": [
        {
          "output_type": "execute_result",
          "data": {
            "text/plain": [
              "<PrefetchDataset shapes: ({input_mask: (None, 128), input_type_ids: (None, 128), input_word_ids: (None, 128)}, (None,)), types: ({input_mask: tf.int32, input_type_ids: tf.int32, input_word_ids: tf.int32}, tf.int64)>"
            ]
          },
          "metadata": {},
          "execution_count": 66
        }
      ]
    },
    {
      "cell_type": "code",
      "source": [
        "val_df.info()"
      ],
      "metadata": {
        "colab": {
          "base_uri": "https://localhost:8080/"
        },
        "id": "Y56N8vmMEWkw",
        "outputId": "ff4d924d-2463-4576-ddb4-95ad804dc732"
      },
      "id": "Y56N8vmMEWkw",
      "execution_count": null,
      "outputs": [
        {
          "output_type": "stream",
          "name": "stdout",
          "text": [
            "<class 'pandas.core.frame.DataFrame'>\n",
            "Int64Index: 315850 entries, 0 to 1578625\n",
            "Data columns (total 2 columns):\n",
            " #   Column  Non-Null Count   Dtype \n",
            "---  ------  --------------   ----- \n",
            " 0   label   315850 non-null  int64 \n",
            " 1   text    315850 non-null  object\n",
            "dtypes: int64(1), object(1)\n",
            "memory usage: 7.2+ MB\n"
          ]
        }
      ]
    },
    {
      "cell_type": "code",
      "execution_count": null,
      "id": "102e6fc1-e2ce-4399-a09e-00d0ed2a4901",
      "metadata": {
        "colab": {
          "base_uri": "https://localhost:8080/"
        },
        "id": "102e6fc1-e2ce-4399-a09e-00d0ed2a4901",
        "outputId": "4e87e568-f35a-4e8d-9f8f-7905c840748a"
      },
      "outputs": [
        {
          "output_type": "stream",
          "name": "stdout",
          "text": [
            "f1 0.8602113517735948\n",
            "accuracy 0.8602184581288587\n"
          ]
        }
      ],
      "source": [
        "from sklearn.metrics import f1_score,accuracy_score\n",
        "import numpy as np\n",
        "pred1 = np.argmax(predictions, axis=1)\n",
        "real = val_df['label']\n",
        "f1 = f1_score(real, pred1, average='macro')\n",
        "a = accuracy_score(real, pred1)\n",
        "print('f1',f1)\n",
        "print('accuracy',a)"
      ]
    },
    {
      "cell_type": "code",
      "execution_count": null,
      "id": "ed3a840a-3978-4f6a-815c-43b1bcf1398e",
      "metadata": {
        "id": "ed3a840a-3978-4f6a-815c-43b1bcf1398e",
        "colab": {
          "base_uri": "https://localhost:8080/"
        },
        "outputId": "c4fb5ae3-b031-43d5-8947-b6c0183dd0cd"
      },
      "outputs": [
        {
          "output_type": "stream",
          "name": "stdout",
          "text": [
            "<class 'pandas.core.frame.DataFrame'>\n",
            "RangeIndex: 163656 entries, 0 to 163655\n",
            "Data columns (total 9 columns):\n",
            " #   Column         Non-Null Count   Dtype \n",
            "---  ------         --------------   ----- \n",
            " 0   id             163641 non-null  object\n",
            " 1   name           163621 non-null  object\n",
            " 2   screen name    163632 non-null  object\n",
            " 3   text           163596 non-null  object\n",
            " 4   num_followers  163570 non-null  object\n",
            " 5   num_friends    163570 non-null  object\n",
            " 6   location       163516 non-null  object\n",
            " 7   geo            163534 non-null  object\n",
            " 8   time           163534 non-null  object\n",
            "dtypes: object(9)\n",
            "memory usage: 11.2+ MB\n"
          ]
        }
      ],
      "source": [
        "tweet_test = pd.concat([pd.read_csv(csv_file,header=None, names=['id', 'name', 'screen name','text','num_followers','num_friends','location','geo','time']) for csv_file in glob.glob(\n",
        "        os.path.join(\"/content/drive/MyDrive/DS/test\", \"*.csv\"))], axis=0, ignore_index=True)\n",
        "    \n",
        "tweet_test.info()"
      ]
    },
    {
      "cell_type": "code",
      "source": [
        "tweet_test['label'] = 0\n",
        "tweet_test['text'] = tweet_test['text'].fillna(' ')\n",
        "tweet_test1 = tweet_test[['label','text']]"
      ],
      "metadata": {
        "id": "SjxUwBuXE-WE"
      },
      "id": "SjxUwBuXE-WE",
      "execution_count": null,
      "outputs": []
    },
    {
      "cell_type": "code",
      "source": [
        "tweet_test1"
      ],
      "metadata": {
        "colab": {
          "base_uri": "https://localhost:8080/",
          "height": 423
        },
        "id": "ck7wQMkCEeKn",
        "outputId": "20d998b8-d81f-4e47-856c-526dc5452a5a"
      },
      "id": "ck7wQMkCEeKn",
      "execution_count": null,
      "outputs": [
        {
          "output_type": "execute_result",
          "data": {
            "text/html": [
              "\n",
              "  <div id=\"df-741df177-9846-4e3a-b47c-366af09b31c2\">\n",
              "    <div class=\"colab-df-container\">\n",
              "      <div>\n",
              "<style scoped>\n",
              "    .dataframe tbody tr th:only-of-type {\n",
              "        vertical-align: middle;\n",
              "    }\n",
              "\n",
              "    .dataframe tbody tr th {\n",
              "        vertical-align: top;\n",
              "    }\n",
              "\n",
              "    .dataframe thead th {\n",
              "        text-align: right;\n",
              "    }\n",
              "</style>\n",
              "<table border=\"1\" class=\"dataframe\">\n",
              "  <thead>\n",
              "    <tr style=\"text-align: right;\">\n",
              "      <th></th>\n",
              "      <th>label</th>\n",
              "      <th>text</th>\n",
              "    </tr>\n",
              "  </thead>\n",
              "  <tbody>\n",
              "    <tr>\n",
              "      <th>0</th>\n",
              "      <td>0</td>\n",
              "      <td>RT @AirdropStario: 💧 CoinSpaceships Airdrop 💧 ...</td>\n",
              "    </tr>\n",
              "    <tr>\n",
              "      <th>1</th>\n",
              "      <td>0</td>\n",
              "      <td>RT @AirdropStario: 💧 CoinSpaceships Airdrop 💧 ...</td>\n",
              "    </tr>\n",
              "    <tr>\n",
              "      <th>2</th>\n",
              "      <td>0</td>\n",
              "      <td>Good morning</td>\n",
              "    </tr>\n",
              "    <tr>\n",
              "      <th>3</th>\n",
              "      <td>0</td>\n",
              "      <td>RT @iamZatoshi: Bitcoin is very much about tim...</td>\n",
              "    </tr>\n",
              "    <tr>\n",
              "      <th>4</th>\n",
              "      <td>0</td>\n",
              "      <td>RT @AirdropStario: 💧 DECENT Coin Airdrop 💧  🏆 ...</td>\n",
              "    </tr>\n",
              "    <tr>\n",
              "      <th>...</th>\n",
              "      <td>...</td>\n",
              "      <td>...</td>\n",
              "    </tr>\n",
              "    <tr>\n",
              "      <th>163651</th>\n",
              "      <td>0</td>\n",
              "      <td>RT @LoxNetwork: Currently under development: o...</td>\n",
              "    </tr>\n",
              "    <tr>\n",
              "      <th>163652</th>\n",
              "      <td>0</td>\n",
              "      <td>RT @lopezgovlaw: #Bitcoin made in #Miami-Dade:...</td>\n",
              "    </tr>\n",
              "    <tr>\n",
              "      <th>163653</th>\n",
              "      <td>0</td>\n",
              "      <td>Promote it on @iconictraderss</td>\n",
              "    </tr>\n",
              "    <tr>\n",
              "      <th>163654</th>\n",
              "      <td>0</td>\n",
              "      <td>RT @TheCryptoLark: This year we got 3 countrie...</td>\n",
              "    </tr>\n",
              "    <tr>\n",
              "      <th>163655</th>\n",
              "      <td>0</td>\n",
              "      <td>RT @purewage5: If the Seahawks beat the Rams o...</td>\n",
              "    </tr>\n",
              "  </tbody>\n",
              "</table>\n",
              "<p>163656 rows × 2 columns</p>\n",
              "</div>\n",
              "      <button class=\"colab-df-convert\" onclick=\"convertToInteractive('df-741df177-9846-4e3a-b47c-366af09b31c2')\"\n",
              "              title=\"Convert this dataframe to an interactive table.\"\n",
              "              style=\"display:none;\">\n",
              "        \n",
              "  <svg xmlns=\"http://www.w3.org/2000/svg\" height=\"24px\"viewBox=\"0 0 24 24\"\n",
              "       width=\"24px\">\n",
              "    <path d=\"M0 0h24v24H0V0z\" fill=\"none\"/>\n",
              "    <path d=\"M18.56 5.44l.94 2.06.94-2.06 2.06-.94-2.06-.94-.94-2.06-.94 2.06-2.06.94zm-11 1L8.5 8.5l.94-2.06 2.06-.94-2.06-.94L8.5 2.5l-.94 2.06-2.06.94zm10 10l.94 2.06.94-2.06 2.06-.94-2.06-.94-.94-2.06-.94 2.06-2.06.94z\"/><path d=\"M17.41 7.96l-1.37-1.37c-.4-.4-.92-.59-1.43-.59-.52 0-1.04.2-1.43.59L10.3 9.45l-7.72 7.72c-.78.78-.78 2.05 0 2.83L4 21.41c.39.39.9.59 1.41.59.51 0 1.02-.2 1.41-.59l7.78-7.78 2.81-2.81c.8-.78.8-2.07 0-2.86zM5.41 20L4 18.59l7.72-7.72 1.47 1.35L5.41 20z\"/>\n",
              "  </svg>\n",
              "      </button>\n",
              "      \n",
              "  <style>\n",
              "    .colab-df-container {\n",
              "      display:flex;\n",
              "      flex-wrap:wrap;\n",
              "      gap: 12px;\n",
              "    }\n",
              "\n",
              "    .colab-df-convert {\n",
              "      background-color: #E8F0FE;\n",
              "      border: none;\n",
              "      border-radius: 50%;\n",
              "      cursor: pointer;\n",
              "      display: none;\n",
              "      fill: #1967D2;\n",
              "      height: 32px;\n",
              "      padding: 0 0 0 0;\n",
              "      width: 32px;\n",
              "    }\n",
              "\n",
              "    .colab-df-convert:hover {\n",
              "      background-color: #E2EBFA;\n",
              "      box-shadow: 0px 1px 2px rgba(60, 64, 67, 0.3), 0px 1px 3px 1px rgba(60, 64, 67, 0.15);\n",
              "      fill: #174EA6;\n",
              "    }\n",
              "\n",
              "    [theme=dark] .colab-df-convert {\n",
              "      background-color: #3B4455;\n",
              "      fill: #D2E3FC;\n",
              "    }\n",
              "\n",
              "    [theme=dark] .colab-df-convert:hover {\n",
              "      background-color: #434B5C;\n",
              "      box-shadow: 0px 1px 3px 1px rgba(0, 0, 0, 0.15);\n",
              "      filter: drop-shadow(0px 1px 2px rgba(0, 0, 0, 0.3));\n",
              "      fill: #FFFFFF;\n",
              "    }\n",
              "  </style>\n",
              "\n",
              "      <script>\n",
              "        const buttonEl =\n",
              "          document.querySelector('#df-741df177-9846-4e3a-b47c-366af09b31c2 button.colab-df-convert');\n",
              "        buttonEl.style.display =\n",
              "          google.colab.kernel.accessAllowed ? 'block' : 'none';\n",
              "\n",
              "        async function convertToInteractive(key) {\n",
              "          const element = document.querySelector('#df-741df177-9846-4e3a-b47c-366af09b31c2');\n",
              "          const dataTable =\n",
              "            await google.colab.kernel.invokeFunction('convertToInteractive',\n",
              "                                                     [key], {});\n",
              "          if (!dataTable) return;\n",
              "\n",
              "          const docLinkHtml = 'Like what you see? Visit the ' +\n",
              "            '<a target=\"_blank\" href=https://colab.research.google.com/notebooks/data_table.ipynb>data table notebook</a>'\n",
              "            + ' to learn more about interactive tables.';\n",
              "          element.innerHTML = '';\n",
              "          dataTable['output_type'] = 'display_data';\n",
              "          await google.colab.output.renderOutput(dataTable, element);\n",
              "          const docLink = document.createElement('div');\n",
              "          docLink.innerHTML = docLinkHtml;\n",
              "          element.appendChild(docLink);\n",
              "        }\n",
              "      </script>\n",
              "    </div>\n",
              "  </div>\n",
              "  "
            ],
            "text/plain": [
              "        label                                               text\n",
              "0           0  RT @AirdropStario: 💧 CoinSpaceships Airdrop 💧 ...\n",
              "1           0  RT @AirdropStario: 💧 CoinSpaceships Airdrop 💧 ...\n",
              "2           0                                       Good morning\n",
              "3           0  RT @iamZatoshi: Bitcoin is very much about tim...\n",
              "4           0  RT @AirdropStario: 💧 DECENT Coin Airdrop 💧  🏆 ...\n",
              "...       ...                                                ...\n",
              "163651      0  RT @LoxNetwork: Currently under development: o...\n",
              "163652      0  RT @lopezgovlaw: #Bitcoin made in #Miami-Dade:...\n",
              "163653      0                      Promote it on @iconictraderss\n",
              "163654      0  RT @TheCryptoLark: This year we got 3 countrie...\n",
              "163655      0  RT @purewage5: If the Seahawks beat the Rams o...\n",
              "\n",
              "[163656 rows x 2 columns]"
            ]
          },
          "metadata": {},
          "execution_count": 112
        }
      ]
    },
    {
      "cell_type": "code",
      "source": [
        "val_df.info()"
      ],
      "metadata": {
        "colab": {
          "base_uri": "https://localhost:8080/"
        },
        "id": "ctr9jdI1FjqT",
        "outputId": "aa768658-b604-4a29-d731-c714a2dec1f6"
      },
      "id": "ctr9jdI1FjqT",
      "execution_count": null,
      "outputs": [
        {
          "output_type": "stream",
          "name": "stdout",
          "text": [
            "<class 'pandas.core.frame.DataFrame'>\n",
            "Int64Index: 315850 entries, 0 to 1578625\n",
            "Data columns (total 2 columns):\n",
            " #   Column  Non-Null Count   Dtype \n",
            "---  ------  --------------   ----- \n",
            " 0   label   315850 non-null  int64 \n",
            " 1   text    315850 non-null  object\n",
            "dtypes: int64(1), object(1)\n",
            "memory usage: 7.2+ MB\n"
          ]
        }
      ]
    },
    {
      "cell_type": "code",
      "source": [
        "tweet_test1.info()"
      ],
      "metadata": {
        "colab": {
          "base_uri": "https://localhost:8080/"
        },
        "id": "98iFAKJHFnr1",
        "outputId": "345c03be-97a1-4728-83c5-92aa8cfc9d41"
      },
      "id": "98iFAKJHFnr1",
      "execution_count": null,
      "outputs": [
        {
          "output_type": "stream",
          "name": "stdout",
          "text": [
            "<class 'pandas.core.frame.DataFrame'>\n",
            "RangeIndex: 163656 entries, 0 to 163655\n",
            "Data columns (total 2 columns):\n",
            " #   Column  Non-Null Count   Dtype \n",
            "---  ------  --------------   ----- \n",
            " 0   label   163656 non-null  int64 \n",
            " 1   text    163656 non-null  object\n",
            "dtypes: int64(1), object(1)\n",
            "memory usage: 2.5+ MB\n"
          ]
        }
      ]
    },
    {
      "cell_type": "code",
      "source": [
        "\n",
        "\n",
        "bert_preprocess_model = bert_finetune.make_bert_preprocess_model(bert_finetune.handle_preprocess,feature_cols, seq_length=128)\n",
        "tweet_test2, _=bert_finetune.convert_dataset(tweet_test1, 32, \n",
        "                          bert_preprocess_model, \n",
        "                          feature_cols,label='label', \n",
        "                         shuffle=False, repeat=False)"
      ],
      "metadata": {
        "colab": {
          "base_uri": "https://localhost:8080/"
        },
        "id": "tr1DaYV7534t",
        "outputId": "958d281c-e50d-43d5-eb8c-57a87d502459"
      },
      "id": "tr1DaYV7534t",
      "execution_count": null,
      "outputs": [
        {
          "output_type": "stream",
          "name": "stderr",
          "text": [
            "/usr/local/lib/python3.7/dist-packages/keras/engine/functional.py:559: UserWarning: Input dict contained keys ['label'] which did not match any model input. They will be ignored by the model.\n",
            "  inputs = self._flatten_to_reference_inputs(inputs)\n"
          ]
        }
      ]
    },
    {
      "cell_type": "code",
      "source": [
        "tweet_test['text']"
      ],
      "metadata": {
        "colab": {
          "base_uri": "https://localhost:8080/"
        },
        "id": "hGEz_Hk194Cw",
        "outputId": "8414cca6-cbe6-499c-f3d1-00091185ad50"
      },
      "id": "hGEz_Hk194Cw",
      "execution_count": null,
      "outputs": [
        {
          "output_type": "execute_result",
          "data": {
            "text/plain": [
              "0         RT @AirdropStario: 💧 CoinSpaceships Airdrop 💧 ...\n",
              "1         RT @AirdropStario: 💧 CoinSpaceships Airdrop 💧 ...\n",
              "2                                              Good morning\n",
              "3         RT @iamZatoshi: Bitcoin is very much about tim...\n",
              "4         RT @AirdropStario: 💧 DECENT Coin Airdrop 💧  🏆 ...\n",
              "                                ...                        \n",
              "163651    RT @LoxNetwork: Currently under development: o...\n",
              "163652    RT @lopezgovlaw: #Bitcoin made in #Miami-Dade:...\n",
              "163653                        Promote it on @iconictraderss\n",
              "163654    RT @TheCryptoLark: This year we got 3 countrie...\n",
              "163655    RT @purewage5: If the Seahawks beat the Rams o...\n",
              "Name: text, Length: 163656, dtype: object"
            ]
          },
          "metadata": {},
          "execution_count": 53
        }
      ]
    },
    {
      "cell_type": "code",
      "source": [
        "with bert_finetune.strategy.scope():\n",
        "  predictions = bert_model.predict(tweet_test2)\n",
        "  pred = np.argmax(predictions, axis=1)"
      ],
      "metadata": {
        "id": "gRdKS5I449xh"
      },
      "id": "gRdKS5I449xh",
      "execution_count": null,
      "outputs": []
    },
    {
      "cell_type": "code",
      "source": [
        "pred[400:450]"
      ],
      "metadata": {
        "colab": {
          "base_uri": "https://localhost:8080/"
        },
        "id": "kbHMPeemJK1m",
        "outputId": "3235ae93-8529-4d9c-fe66-5f630ed165e7"
      },
      "id": "kbHMPeemJK1m",
      "execution_count": null,
      "outputs": [
        {
          "output_type": "execute_result",
          "data": {
            "text/plain": [
              "array([1, 1, 1, 1, 1, 1, 1, 1, 1, 1, 1, 1, 1, 1, 1, 1, 1, 1, 1, 1, 1, 1,\n",
              "       1, 1, 1, 1, 1, 1, 1, 1, 1, 1, 1, 1, 1, 1, 1, 1, 1, 1, 1, 1, 1, 1,\n",
              "       1, 1, 1, 1, 1, 0])"
            ]
          },
          "metadata": {},
          "execution_count": 113
        }
      ]
    },
    {
      "cell_type": "code",
      "source": [
        "tweet_test1 = tweet_test['text']\n",
        "len(tweet_test1)"
      ],
      "metadata": {
        "colab": {
          "base_uri": "https://localhost:8080/"
        },
        "id": "h4S9ES7t86qP",
        "outputId": "a7df2338-33d8-49c4-ce47-2cacca04aeac"
      },
      "id": "h4S9ES7t86qP",
      "execution_count": null,
      "outputs": [
        {
          "output_type": "execute_result",
          "data": {
            "text/plain": [
              "163656"
            ]
          },
          "metadata": {},
          "execution_count": 56
        }
      ]
    },
    {
      "cell_type": "code",
      "source": [
        "len(predictions)"
      ],
      "metadata": {
        "colab": {
          "base_uri": "https://localhost:8080/"
        },
        "id": "MJ9H1J7h9hFB",
        "outputId": "0d6da597-8cd4-47cb-b4cf-4c1e05df910d"
      },
      "id": "MJ9H1J7h9hFB",
      "execution_count": null,
      "outputs": [
        {
          "output_type": "execute_result",
          "data": {
            "text/plain": [
              "163656"
            ]
          },
          "metadata": {},
          "execution_count": 78
        }
      ]
    },
    {
      "cell_type": "code",
      "source": [
        "type(pred)"
      ],
      "metadata": {
        "colab": {
          "base_uri": "https://localhost:8080/"
        },
        "id": "y55TEbKy_JBn",
        "outputId": "a30339fb-47a5-480b-f2d7-c6a110663d0d"
      },
      "id": "y55TEbKy_JBn",
      "execution_count": null,
      "outputs": [
        {
          "output_type": "execute_result",
          "data": {
            "text/plain": [
              "numpy.ndarray"
            ]
          },
          "metadata": {},
          "execution_count": 80
        }
      ]
    },
    {
      "cell_type": "code",
      "source": [
        "tweet_test['sentiment'] = pred"
      ],
      "metadata": {
        "id": "bUo12YDpIXQw"
      },
      "id": "bUo12YDpIXQw",
      "execution_count": null,
      "outputs": []
    },
    {
      "cell_type": "code",
      "source": [
        "tweet_test.to_csv('/content/drive/MyDrive/DS/labeled_tweets.csv')"
      ],
      "metadata": {
        "id": "kf0STUX-O6Um"
      },
      "id": "kf0STUX-O6Um",
      "execution_count": null,
      "outputs": []
    },
    {
      "cell_type": "code",
      "source": [
        "tweet_test"
      ],
      "metadata": {
        "colab": {
          "base_uri": "https://localhost:8080/",
          "height": 1000
        },
        "id": "iuMK38qaI4TZ",
        "outputId": "9d85077f-f1ae-4a29-a7b9-5fd01b474f79"
      },
      "id": "iuMK38qaI4TZ",
      "execution_count": null,
      "outputs": [
        {
          "output_type": "execute_result",
          "data": {
            "text/html": [
              "\n",
              "  <div id=\"df-7b9579b0-6676-4349-909d-fd6d147d9675\">\n",
              "    <div class=\"colab-df-container\">\n",
              "      <div>\n",
              "<style scoped>\n",
              "    .dataframe tbody tr th:only-of-type {\n",
              "        vertical-align: middle;\n",
              "    }\n",
              "\n",
              "    .dataframe tbody tr th {\n",
              "        vertical-align: top;\n",
              "    }\n",
              "\n",
              "    .dataframe thead th {\n",
              "        text-align: right;\n",
              "    }\n",
              "</style>\n",
              "<table border=\"1\" class=\"dataframe\">\n",
              "  <thead>\n",
              "    <tr style=\"text-align: right;\">\n",
              "      <th></th>\n",
              "      <th>id</th>\n",
              "      <th>name</th>\n",
              "      <th>screen name</th>\n",
              "      <th>text</th>\n",
              "      <th>num_followers</th>\n",
              "      <th>num_friends</th>\n",
              "      <th>location</th>\n",
              "      <th>geo</th>\n",
              "      <th>time</th>\n",
              "      <th>label</th>\n",
              "      <th>sentiment</th>\n",
              "    </tr>\n",
              "  </thead>\n",
              "  <tbody>\n",
              "    <tr>\n",
              "      <th>0</th>\n",
              "      <td>1473523403571224579</td>\n",
              "      <td>Mohammad</td>\n",
              "      <td>Mohamma03992389</td>\n",
              "      <td>RT @AirdropStario: 💧 CoinSpaceships Airdrop 💧 ...</td>\n",
              "      <td>3</td>\n",
              "      <td>76</td>\n",
              "      <td>None</td>\n",
              "      <td>None</td>\n",
              "      <td>Wed Dec 22 05:18:50 +0000 2021</td>\n",
              "      <td>0</td>\n",
              "      <td>1</td>\n",
              "    </tr>\n",
              "    <tr>\n",
              "      <th>1</th>\n",
              "      <td>1473523404628054017</td>\n",
              "      <td>MonOntor</td>\n",
              "      <td>MonOntor3</td>\n",
              "      <td>RT @AirdropStario: 💧 CoinSpaceships Airdrop 💧 ...</td>\n",
              "      <td>1</td>\n",
              "      <td>32</td>\n",
              "      <td>Asia</td>\n",
              "      <td>None</td>\n",
              "      <td>Wed Dec 22 05:18:51 +0000 2021</td>\n",
              "      <td>0</td>\n",
              "      <td>1</td>\n",
              "    </tr>\n",
              "    <tr>\n",
              "      <th>2</th>\n",
              "      <td>1473523405781553153</td>\n",
              "      <td>Rony Ahmed</td>\n",
              "      <td>Rony4fire</td>\n",
              "      <td>Good morning</td>\n",
              "      <td>2358</td>\n",
              "      <td>3797</td>\n",
              "      <td>None</td>\n",
              "      <td>None</td>\n",
              "      <td>Wed Dec 22 05:18:51 +0000 2021</td>\n",
              "      <td>0</td>\n",
              "      <td>1</td>\n",
              "    </tr>\n",
              "    <tr>\n",
              "      <th>3</th>\n",
              "      <td>1473523406674956289</td>\n",
              "      <td>Ikka Apriyuni</td>\n",
              "      <td>winwinyess</td>\n",
              "      <td>RT @iamZatoshi: Bitcoin is very much about tim...</td>\n",
              "      <td>37</td>\n",
              "      <td>1735</td>\n",
              "      <td>None</td>\n",
              "      <td>None</td>\n",
              "      <td>Wed Dec 22 05:18:51 +0000 2021</td>\n",
              "      <td>0</td>\n",
              "      <td>1</td>\n",
              "    </tr>\n",
              "    <tr>\n",
              "      <th>4</th>\n",
              "      <td>1473523407656390656</td>\n",
              "      <td>Md Sohel Rana</td>\n",
              "      <td>MdSohelRana1757</td>\n",
              "      <td>RT @AirdropStario: 💧 DECENT Coin Airdrop 💧  🏆 ...</td>\n",
              "      <td>25</td>\n",
              "      <td>641</td>\n",
              "      <td>None</td>\n",
              "      <td>None</td>\n",
              "      <td>Wed Dec 22 05:18:51 +0000 2021</td>\n",
              "      <td>0</td>\n",
              "      <td>1</td>\n",
              "    </tr>\n",
              "    <tr>\n",
              "      <th>...</th>\n",
              "      <td>...</td>\n",
              "      <td>...</td>\n",
              "      <td>...</td>\n",
              "      <td>...</td>\n",
              "      <td>...</td>\n",
              "      <td>...</td>\n",
              "      <td>...</td>\n",
              "      <td>...</td>\n",
              "      <td>...</td>\n",
              "      <td>...</td>\n",
              "      <td>...</td>\n",
              "    </tr>\n",
              "    <tr>\n",
              "      <th>163651</th>\n",
              "      <td>1473470358074572801</td>\n",
              "      <td>CoinNext88</td>\n",
              "      <td>CoinNext88</td>\n",
              "      <td>RT @LoxNetwork: Currently under development: o...</td>\n",
              "      <td>400</td>\n",
              "      <td>715</td>\n",
              "      <td>Mars</td>\n",
              "      <td>None</td>\n",
              "      <td>Wed Dec 22 01:48:03 +0000 2021</td>\n",
              "      <td>0</td>\n",
              "      <td>1</td>\n",
              "    </tr>\n",
              "    <tr>\n",
              "      <th>163652</th>\n",
              "      <td>1473470358971981827</td>\n",
              "      <td>Miami Gives</td>\n",
              "      <td>MiamiGives</td>\n",
              "      <td>RT @lopezgovlaw: #Bitcoin made in #Miami-Dade:...</td>\n",
              "      <td>3108</td>\n",
              "      <td>732</td>\n",
              "      <td>Miami, FL</td>\n",
              "      <td>None</td>\n",
              "      <td>Wed Dec 22 01:48:03 +0000 2021</td>\n",
              "      <td>0</td>\n",
              "      <td>1</td>\n",
              "    </tr>\n",
              "    <tr>\n",
              "      <th>163653</th>\n",
              "      <td>1473470359546437640</td>\n",
              "      <td>Kim Taylor</td>\n",
              "      <td>KimTayl25167873</td>\n",
              "      <td>Promote it on @iconictraderss</td>\n",
              "      <td>3</td>\n",
              "      <td>6</td>\n",
              "      <td>None</td>\n",
              "      <td>None</td>\n",
              "      <td>Wed Dec 22 01:48:04 +0000 2021</td>\n",
              "      <td>0</td>\n",
              "      <td>1</td>\n",
              "    </tr>\n",
              "    <tr>\n",
              "      <th>163654</th>\n",
              "      <td>1473470361128042496</td>\n",
              "      <td>Ian Castro</td>\n",
              "      <td>IanRCastro</td>\n",
              "      <td>RT @TheCryptoLark: This year we got 3 countrie...</td>\n",
              "      <td>269</td>\n",
              "      <td>924</td>\n",
              "      <td>Neverwhere</td>\n",
              "      <td>None</td>\n",
              "      <td>Wed Dec 22 01:48:04 +0000 2021</td>\n",
              "      <td>0</td>\n",
              "      <td>1</td>\n",
              "    </tr>\n",
              "    <tr>\n",
              "      <th>163655</th>\n",
              "      <td>1473470362687991808</td>\n",
              "      <td>Rich Cantrell</td>\n",
              "      <td>Sandman9595</td>\n",
              "      <td>RT @purewage5: If the Seahawks beat the Rams o...</td>\n",
              "      <td>131</td>\n",
              "      <td>686</td>\n",
              "      <td>Phoenix</td>\n",
              "      <td>None</td>\n",
              "      <td>Wed Dec 22 01:48:04 +0000 2021</td>\n",
              "      <td>0</td>\n",
              "      <td>1</td>\n",
              "    </tr>\n",
              "  </tbody>\n",
              "</table>\n",
              "<p>163656 rows × 11 columns</p>\n",
              "</div>\n",
              "      <button class=\"colab-df-convert\" onclick=\"convertToInteractive('df-7b9579b0-6676-4349-909d-fd6d147d9675')\"\n",
              "              title=\"Convert this dataframe to an interactive table.\"\n",
              "              style=\"display:none;\">\n",
              "        \n",
              "  <svg xmlns=\"http://www.w3.org/2000/svg\" height=\"24px\"viewBox=\"0 0 24 24\"\n",
              "       width=\"24px\">\n",
              "    <path d=\"M0 0h24v24H0V0z\" fill=\"none\"/>\n",
              "    <path d=\"M18.56 5.44l.94 2.06.94-2.06 2.06-.94-2.06-.94-.94-2.06-.94 2.06-2.06.94zm-11 1L8.5 8.5l.94-2.06 2.06-.94-2.06-.94L8.5 2.5l-.94 2.06-2.06.94zm10 10l.94 2.06.94-2.06 2.06-.94-2.06-.94-.94-2.06-.94 2.06-2.06.94z\"/><path d=\"M17.41 7.96l-1.37-1.37c-.4-.4-.92-.59-1.43-.59-.52 0-1.04.2-1.43.59L10.3 9.45l-7.72 7.72c-.78.78-.78 2.05 0 2.83L4 21.41c.39.39.9.59 1.41.59.51 0 1.02-.2 1.41-.59l7.78-7.78 2.81-2.81c.8-.78.8-2.07 0-2.86zM5.41 20L4 18.59l7.72-7.72 1.47 1.35L5.41 20z\"/>\n",
              "  </svg>\n",
              "      </button>\n",
              "      \n",
              "  <style>\n",
              "    .colab-df-container {\n",
              "      display:flex;\n",
              "      flex-wrap:wrap;\n",
              "      gap: 12px;\n",
              "    }\n",
              "\n",
              "    .colab-df-convert {\n",
              "      background-color: #E8F0FE;\n",
              "      border: none;\n",
              "      border-radius: 50%;\n",
              "      cursor: pointer;\n",
              "      display: none;\n",
              "      fill: #1967D2;\n",
              "      height: 32px;\n",
              "      padding: 0 0 0 0;\n",
              "      width: 32px;\n",
              "    }\n",
              "\n",
              "    .colab-df-convert:hover {\n",
              "      background-color: #E2EBFA;\n",
              "      box-shadow: 0px 1px 2px rgba(60, 64, 67, 0.3), 0px 1px 3px 1px rgba(60, 64, 67, 0.15);\n",
              "      fill: #174EA6;\n",
              "    }\n",
              "\n",
              "    [theme=dark] .colab-df-convert {\n",
              "      background-color: #3B4455;\n",
              "      fill: #D2E3FC;\n",
              "    }\n",
              "\n",
              "    [theme=dark] .colab-df-convert:hover {\n",
              "      background-color: #434B5C;\n",
              "      box-shadow: 0px 1px 3px 1px rgba(0, 0, 0, 0.15);\n",
              "      filter: drop-shadow(0px 1px 2px rgba(0, 0, 0, 0.3));\n",
              "      fill: #FFFFFF;\n",
              "    }\n",
              "  </style>\n",
              "\n",
              "      <script>\n",
              "        const buttonEl =\n",
              "          document.querySelector('#df-7b9579b0-6676-4349-909d-fd6d147d9675 button.colab-df-convert');\n",
              "        buttonEl.style.display =\n",
              "          google.colab.kernel.accessAllowed ? 'block' : 'none';\n",
              "\n",
              "        async function convertToInteractive(key) {\n",
              "          const element = document.querySelector('#df-7b9579b0-6676-4349-909d-fd6d147d9675');\n",
              "          const dataTable =\n",
              "            await google.colab.kernel.invokeFunction('convertToInteractive',\n",
              "                                                     [key], {});\n",
              "          if (!dataTable) return;\n",
              "\n",
              "          const docLinkHtml = 'Like what you see? Visit the ' +\n",
              "            '<a target=\"_blank\" href=https://colab.research.google.com/notebooks/data_table.ipynb>data table notebook</a>'\n",
              "            + ' to learn more about interactive tables.';\n",
              "          element.innerHTML = '';\n",
              "          dataTable['output_type'] = 'display_data';\n",
              "          await google.colab.output.renderOutput(dataTable, element);\n",
              "          const docLink = document.createElement('div');\n",
              "          docLink.innerHTML = docLinkHtml;\n",
              "          element.appendChild(docLink);\n",
              "        }\n",
              "      </script>\n",
              "    </div>\n",
              "  </div>\n",
              "  "
            ],
            "text/plain": [
              "                         id           name  ... label sentiment\n",
              "0       1473523403571224579       Mohammad  ...     0         1\n",
              "1       1473523404628054017       MonOntor  ...     0         1\n",
              "2       1473523405781553153     Rony Ahmed  ...     0         1\n",
              "3       1473523406674956289  Ikka Apriyuni  ...     0         1\n",
              "4       1473523407656390656  Md Sohel Rana  ...     0         1\n",
              "...                     ...            ...  ...   ...       ...\n",
              "163651  1473470358074572801     CoinNext88  ...     0         1\n",
              "163652  1473470358971981827    Miami Gives  ...     0         1\n",
              "163653  1473470359546437640     Kim Taylor  ...     0         1\n",
              "163654  1473470361128042496     Ian Castro  ...     0         1\n",
              "163655  1473470362687991808  Rich Cantrell  ...     0         1\n",
              "\n",
              "[163656 rows x 11 columns]"
            ]
          },
          "metadata": {},
          "execution_count": 115
        }
      ]
    }
  ],
  "metadata": {
    "environment": {
      "kernel": "python3",
      "name": "tf2-gpu.2-7.m86",
      "type": "gcloud",
      "uri": "gcr.io/deeplearning-platform-release/tf2-gpu.2-7:m86"
    },
    "kernelspec": {
      "display_name": "Python 3 (ipykernel)",
      "language": "python",
      "name": "python3"
    },
    "language_info": {
      "codemirror_mode": {
        "name": "ipython",
        "version": 3
      },
      "file_extension": ".py",
      "mimetype": "text/x-python",
      "name": "python",
      "nbconvert_exporter": "python",
      "pygments_lexer": "ipython3",
      "version": "3.9.7"
    },
    "colab": {
      "name": "BERTClass.ipynb",
      "provenance": [],
      "collapsed_sections": []
    },
    "accelerator": "TPU"
  },
  "nbformat": 4,
  "nbformat_minor": 5
}
